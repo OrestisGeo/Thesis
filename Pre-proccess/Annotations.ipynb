{
 "cells": [
  {
   "cell_type": "code",
   "execution_count": 2,
   "metadata": {},
   "outputs": [
    {
     "data": {
      "text/plain": [
       "(3088865, 6)"
      ]
     },
     "execution_count": 2,
     "metadata": {},
     "output_type": "execute_result"
    }
   ],
   "source": [
    "import pandas as pd\n",
    "\n",
    "df2 = pd.read_csv('C:/Users/Orestis/Desktop/1.Diplomatiki/Data/Item Data/imagenewsreel-imagelabels.csv', delimiter=';', header=None, escapechar='\\\\', quotechar='\\\"')\n",
    "df2.shape"
   ]
  },
  {
   "cell_type": "code",
   "execution_count": 3,
   "metadata": {
    "scrolled": true
   },
   "outputs": [
    {
     "data": {
      "text/plain": [
       "669"
      ]
     },
     "execution_count": 3,
     "metadata": {},
     "output_type": "execute_result"
    }
   ],
   "source": [
    "#i parenthesi mesa sto df2[...] epistrefei ena monodiastato panda.Series me booleans opou exei True se oti zitame\n",
    "# https://www.youtube.com/watch?v=2AFGPdNn4FM\n",
    "new_df = df2[(df2[5]==7)] #(df2[3] != \"human\") & (df2[3] != \"without human\") & \n",
    "new_df[1].min()"
   ]
  },
  {
   "cell_type": "code",
   "execution_count": 4,
   "metadata": {},
   "outputs": [
    {
     "data": {
      "text/plain": [
       "(491424, 6)"
      ]
     },
     "execution_count": 4,
     "metadata": {},
     "output_type": "execute_result"
    }
   ],
   "source": [
    "new_df.shape"
   ]
  },
  {
   "cell_type": "code",
   "execution_count": 5,
   "metadata": {
    "scrolled": true
   },
   "outputs": [
    {
     "name": "stdout",
     "output_type": "stream",
     "text": [
      "998 998\n"
     ]
    }
   ],
   "source": [
    "#dimiourgia dictionary gia ta annotations tis methodou 7 , briskoume posa monadika annotations uparxoun\n",
    "counter = 0 \n",
    "annot_dict = {}\n",
    "for annotation in new_df[3]:\n",
    "    if annotation not in annot_dict:\n",
    "        annot_dict[annotation] = counter\n",
    "        counter+=1\n",
    "print(counter, len(annot_dict))\n",
    "  "
   ]
  },
  {
   "cell_type": "code",
   "execution_count": null,
   "metadata": {},
   "outputs": [],
   "source": [
    "annot_dict"
   ]
  },
  {
   "cell_type": "code",
   "execution_count": 1,
   "metadata": {},
   "outputs": [
    {
     "ename": "NameError",
     "evalue": "name 'new_df' is not defined",
     "output_type": "error",
     "traceback": [
      "\u001b[1;31m---------------------------------------------------------------------------\u001b[0m",
      "\u001b[1;31mNameError\u001b[0m                                 Traceback (most recent call last)",
      "\u001b[1;32m<ipython-input-1-3669fb29dbf6>\u001b[0m in \u001b[0;36m<module>\u001b[1;34m\u001b[0m\n\u001b[1;32m----> 1\u001b[1;33m \u001b[0mnew_df\u001b[0m\u001b[1;33m\u001b[0m\u001b[1;33m\u001b[0m\u001b[0m\n\u001b[0m",
      "\u001b[1;31mNameError\u001b[0m: name 'new_df' is not defined"
     ]
    }
   ],
   "source": [
    "new_df"
   ]
  },
  {
   "cell_type": "code",
   "execution_count": 8,
   "metadata": {},
   "outputs": [
    {
     "data": {
      "text/plain": [
       "491424"
      ]
     },
     "execution_count": 8,
     "metadata": {},
     "output_type": "execute_result"
    }
   ],
   "source": [
    "#dimiourgw mia lista me tin antistoixia twn annotations olws twn eikonwn kai twn kwdikwn tous apo to annot_dict\n",
    "word_number = []\n",
    "for annotation in new_df[3]:\n",
    "    word_number.append(annot_dict[annotation])   #annot_dict[annotation] epistrefei to value dld ton arithmo tou annotation\n",
    "len(word_number)\n",
    "#kathe annotation twn arthrwn exei ton antistoixo arithmo apo to annot_dict"
   ]
  },
  {
   "cell_type": "code",
   "execution_count": 9,
   "metadata": {},
   "outputs": [
    {
     "name": "stderr",
     "output_type": "stream",
     "text": [
      "C:\\Users\\Orestis\\Anaconda3\\lib\\site-packages\\ipykernel_launcher.py:2: SettingWithCopyWarning: \n",
      "A value is trying to be set on a copy of a slice from a DataFrame.\n",
      "Try using .loc[row_indexer,col_indexer] = value instead\n",
      "\n",
      "See the caveats in the documentation: http://pandas.pydata.org/pandas-docs/stable/indexing.html#indexing-view-versus-copy\n",
      "  \n"
     ]
    },
    {
     "data": {
      "text/plain": [
       "(491424, 7)"
      ]
     },
     "execution_count": 9,
     "metadata": {},
     "output_type": "execute_result"
    }
   ],
   "source": [
    "#prosthetw tin parapanw lista sto arxiko dataframe se mia nea stili\n",
    "new_df[6]= word_number\n",
    "new_df.shape"
   ]
  },
  {
   "cell_type": "code",
   "execution_count": 10,
   "metadata": {},
   "outputs": [
    {
     "name": "stdout",
     "output_type": "stream",
     "text": [
      "[0.19955499999999998, 0.194056, 0.103023, 0.0908531, 0.0702698, 0.0555039, 0.024981200000000002, 0.0235111, 0.0202011, 0.0168473] 491424\n"
     ]
    }
   ],
   "source": [
    "#dimiourgia list apo ena sugkekrimeno column tou dataframe, den xreiazetai\n",
    "confidence_list = new_df[4].tolist()\n",
    "print(confidence_list[0:10], len(confidence_list))\n"
   ]
  },
  {
   "cell_type": "code",
   "execution_count": 10,
   "metadata": {},
   "outputs": [
    {
     "data": {
      "text/plain": [
       "(numpy.float64, 491424, list)"
      ]
     },
     "execution_count": 10,
     "metadata": {},
     "output_type": "execute_result"
    }
   ],
   "source": [
    "#1os tropos....dimiopurgia dataframe me ta columns poy thelw kai metatropi se list tuple, 1os tropos\n",
    "#epilegw tin stili me tous kwdikous pou prosthesa kai tin stili me ta probabilities\n",
    "subset = new_df[[6,4]]\n",
    "tuples = [tuple(x) for x in subset.values]\n",
    "#type(tuples), tuples[0:5]\n",
    "type(tuples[0][0]),len(tuples),type(tuples)"
   ]
  },
  {
   "cell_type": "code",
   "execution_count": 9,
   "metadata": {},
   "outputs": [
    {
     "data": {
      "text/plain": [
       "(list,\n",
       " [[0.0, 0.19955499999999998],\n",
       "  [1.0, 0.194056],\n",
       "  [2.0, 0.103023],\n",
       "  [3.0, 0.0908531],\n",
       "  [4.0, 0.0702698]])"
      ]
     },
     "execution_count": 9,
     "metadata": {},
     "output_type": "execute_result"
    }
   ],
   "source": [
    "#2os tropos....den mporw na balw sketo subset kai na to kanei olo lista.Prepei na orisw ena sugkekrimeno column h na balw subset.values\n",
    "confidence_list2 = subset.values.tolist()\n",
    "type(confidence_list2), confidence_list2[0:5]"
   ]
  },
  {
   "cell_type": "code",
   "execution_count": 13,
   "metadata": {},
   "outputs": [
    {
     "data": {
      "text/plain": [
       "(491424, 491424)"
      ]
     },
     "execution_count": 13,
     "metadata": {},
     "output_type": "execute_result"
    }
   ],
   "source": [
    "len(tuples), len(confidence_list2)"
   ]
  },
  {
   "cell_type": "code",
   "execution_count": 11,
   "metadata": {},
   "outputs": [
    {
     "data": {
      "text/plain": [
       "(49299,\n",
       " [(85.0, 0.597522),\n",
       "  (60.0, 0.12918),\n",
       "  (14.0, 0.09601860000000001),\n",
       "  (67.0, 0.08093339999999999),\n",
       "  (75.0, 0.0123117),\n",
       "  (87.0, 0.00906846),\n",
       "  (296.0, 0.00810782),\n",
       "  (18.0, 0.00732954),\n",
       "  (367.0, 0.005056399999999999),\n",
       "  (11.0, 0.00472651)])"
      ]
     },
     "execution_count": 11,
     "metadata": {},
     "output_type": "execute_result"
    }
   ],
   "source": [
    "#1os tropos: list se dictionary....Ftiaxnw ena dictionary poy exei key to article_id kai value to tuple[] pou eixa dimiourghsei\n",
    "image_annotations = {}\n",
    "for article_id, t in zip(new_df[1], tuples):\n",
    "    if article_id not in image_annotations:\n",
    "        tlist = []        #dimiourgw mia kenh lista\n",
    "        tlist.append(t)   #prostherw to antistoixo tuple tou arthrou\n",
    "        image_annotations[article_id] = tlist       #bazw tin lista-tuple wx value sto key-article tou dictionary\n",
    "    else:\n",
    "        tlist = image_annotations[article_id]  #epistrefw to value gia to sugkekrimeno key-article, to opoio einai to tuple tou arthrou\n",
    "        tlist.append(t)                        #sto uparxwn tuple,prosthetw ena kainourio tuple stin lista prin tin perasw san value sto dictionary\n",
    "        image_annotations[article_id] = tlist\n",
    "\n",
    "len(image_annotations),image_annotations[5999]\n",
    "#Gia kathe arthro exw ta tuples olwn twn annotation tou arthrou"
   ]
  },
  {
   "cell_type": "code",
   "execution_count": 20,
   "metadata": {},
   "outputs": [],
   "source": []
  },
  {
   "cell_type": "code",
   "execution_count": null,
   "metadata": {},
   "outputs": [],
   "source": [
    "types1 = [type(k) for k in image_annotations.keys()]\n",
    "types1"
   ]
  },
  {
   "cell_type": "code",
   "execution_count": 13,
   "metadata": {},
   "outputs": [],
   "source": [
    "#2os tropos: dictionary se dictionary\n",
    "image_annotations2 = {}\n",
    "for article_id, t in zip(new_df[1], tuples): \n",
    "    if article_id not in image_annotations2:\n",
    "        tlist = {}     #idia logiki me ton prwto tropo apla twra dimiourgw ena dictionary anti gia mia lista me tuples\n",
    "        key = t[0]     #epistrefei to 1o stoixeio tou tuple[], dld ton kwdiko tou annotation\n",
    "        value = t[1]   #epistrefei to 2o stoixeio tou tuple[], dld to probability tou annotation\n",
    "        tlist[key] = value   #ftiaxnw to dictionary, me key=kwdiko kai value=probability\n",
    "        #tlist[t[0]] = t[1] kanei to idio akribws me thn parapanw entolh\n",
    "        image_annotations2[article_id] = tlist   #pernaw to dictionary tlist{} sto arxiko dictionary pou dimiourgisa\n",
    "    else:\n",
    "        tlist = image_annotations2[article_id]    #h monh diafora einai oti prepei prwta na fortwsw to idi uparxwn dictionary\n",
    "        key = t[0]\n",
    "        value = t[1]\n",
    "        tlist[key] = value                        #prosthetw sto uparxwn dict to kainoyrio tuple\n",
    "        image_annotations2[article_id] = tlist\n",
    "\n",
    "#len(image_annotations2),image_annotations2"
   ]
  },
  {
   "cell_type": "code",
   "execution_count": 17,
   "metadata": {},
   "outputs": [
    {
     "data": {
      "text/plain": [
       "(array([[0., 0., 0., ..., 0., 0., 0.],\n",
       "        [0., 0., 0., ..., 0., 0., 0.],\n",
       "        [0., 0., 0., ..., 0., 0., 0.],\n",
       "        [0., 0., 0., ..., 0., 0., 0.],\n",
       "        [0., 0., 0., ..., 0., 0., 0.]]), 49299)"
      ]
     },
     "execution_count": 17,
     "metadata": {},
     "output_type": "execute_result"
    }
   ],
   "source": [
    "import numpy as np\n",
    "annotation_matrix = np.zeros([len(image_annotations),len(annot_dict)])\n",
    "annotation_matrix[0:5], len(annotation_matrix)"
   ]
  },
  {
   "cell_type": "code",
   "execution_count": 16,
   "metadata": {},
   "outputs": [
    {
     "data": {
      "text/plain": [
       "(49299, 998)"
      ]
     },
     "execution_count": 16,
     "metadata": {},
     "output_type": "execute_result"
    }
   ],
   "source": [
    "len(image_annotations),len(annot_dict)"
   ]
  },
  {
   "cell_type": "code",
   "execution_count": null,
   "metadata": {},
   "outputs": [],
   "source": [
    "counter = 0\n",
    "id_list =[]\n",
    "for article_id,tuple_list in image_annotations.items():   #epistrefei to id kai to tuple\n",
    "    id_list.append(article_id)\n",
    "    for x in tuple_list:\n",
    "        position = x[0]    #o arithmos tou annotation \n",
    "        #print(type(position))\n",
    "        position = int(position)\n",
    "        #print(type(position))\n",
    "        annotation_matrix[counter][position] = x[1]    #to probability tou annotation\n",
    "    counter+=1\n",
    "        \n",
    "len(annotation_matrix),len(id_list),annotation_matrix[2]\n",
    "    "
   ]
  },
  {
   "cell_type": "code",
   "execution_count": 29,
   "metadata": {},
   "outputs": [],
   "source": [
    "import pickle\n",
    "with open(\"annotation_id_list.pk\", 'wb') as handle:\n",
    "    pickle.dump(id_list, handle, protocol=pickle.HIGHEST_PROTOCOL)"
   ]
  },
  {
   "cell_type": "code",
   "execution_count": 24,
   "metadata": {},
   "outputs": [],
   "source": [
    "import pickle\n",
    "with open(\"annotation_matrix.pk\", 'wb') as handle:\n",
    "    pickle.dump(annotation_matrix, handle, protocol=pickle.HIGHEST_PROTOCOL)"
   ]
  },
  {
   "cell_type": "code",
   "execution_count": 33,
   "metadata": {},
   "outputs": [
    {
     "data": {
      "text/plain": [
       "491424"
      ]
     },
     "execution_count": 33,
     "metadata": {},
     "output_type": "execute_result"
    }
   ],
   "source": [
    "len(tuples)"
   ]
  },
  {
   "cell_type": "code",
   "execution_count": 23,
   "metadata": {},
   "outputs": [
    {
     "ename": "TypeError",
     "evalue": "tuple indices must be integers or slices, not list",
     "output_type": "error",
     "traceback": [
      "\u001b[1;31m---------------------------------------------------------------------------\u001b[0m",
      "\u001b[1;31mTypeError\u001b[0m                                 Traceback (most recent call last)",
      "\u001b[1;32m<ipython-input-23-7fa88736fb42>\u001b[0m in \u001b[0;36m<module>\u001b[1;34m()\u001b[0m\n\u001b[0;32m      1\u001b[0m \u001b[0mtest_tuple\u001b[0m \u001b[1;33m=\u001b[0m\u001b[1;33m(\u001b[0m\u001b[1;33m[\u001b[0m\u001b[1;36m1\u001b[0m\u001b[1;33m,\u001b[0m\u001b[1;36m2\u001b[0m\u001b[1;33m]\u001b[0m\u001b[1;33m,\u001b[0m\u001b[1;33m[\u001b[0m\u001b[1;36m5\u001b[0m\u001b[1;33m,\u001b[0m\u001b[1;36m4\u001b[0m\u001b[1;33m]\u001b[0m\u001b[1;33m,\u001b[0m\u001b[1;33m[\u001b[0m\u001b[1;36m6\u001b[0m\u001b[1;33m,\u001b[0m\u001b[1;36m4\u001b[0m\u001b[1;33m]\u001b[0m\u001b[1;33m)\u001b[0m\u001b[1;33m\u001b[0m\u001b[0m\n\u001b[0;32m      2\u001b[0m \u001b[1;32mfor\u001b[0m \u001b[0mx\u001b[0m \u001b[1;32min\u001b[0m \u001b[0mtest_tuple\u001b[0m\u001b[1;33m:\u001b[0m\u001b[1;33m\u001b[0m\u001b[0m\n\u001b[1;32m----> 3\u001b[1;33m     \u001b[0mkey\u001b[0m \u001b[1;33m=\u001b[0m \u001b[0mtest_tuple\u001b[0m\u001b[1;33m[\u001b[0m\u001b[0mx\u001b[0m\u001b[1;33m]\u001b[0m\u001b[1;33m[\u001b[0m\u001b[1;36m1\u001b[0m\u001b[1;33m]\u001b[0m\u001b[1;33m\u001b[0m\u001b[0m\n\u001b[0m\u001b[0;32m      4\u001b[0m     \u001b[0mprint\u001b[0m\u001b[1;33m(\u001b[0m\u001b[0mkey\u001b[0m\u001b[1;33m)\u001b[0m\u001b[1;33m\u001b[0m\u001b[0m\n",
      "\u001b[1;31mTypeError\u001b[0m: tuple indices must be integers or slices, not list"
     ]
    }
   ],
   "source": [
    "test_tuple =([1,2],[5,4],[6,4])\n",
    "for x in test_tuple:\n",
    "    key = test_tuple[x][1]\n",
    "    print(key)"
   ]
  },
  {
   "cell_type": "code",
   "execution_count": null,
   "metadata": {},
   "outputs": [],
   "source": []
  }
 ],
 "metadata": {
  "kernelspec": {
   "display_name": "Python 3",
   "language": "python",
   "name": "python3"
  },
  "language_info": {
   "codemirror_mode": {
    "name": "ipython",
    "version": 3
   },
   "file_extension": ".py",
   "mimetype": "text/x-python",
   "name": "python",
   "nbconvert_exporter": "python",
   "pygments_lexer": "ipython3",
   "version": "3.6.7"
  }
 },
 "nbformat": 4,
 "nbformat_minor": 2
}
