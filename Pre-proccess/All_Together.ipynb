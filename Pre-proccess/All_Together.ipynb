{
 "cells": [
  {
   "cell_type": "code",
   "execution_count": 1,
   "metadata": {},
   "outputs": [
    {
     "data": {
      "text/plain": [
       "((51260, 9), pandas.core.frame.DataFrame)"
      ]
     },
     "execution_count": 1,
     "metadata": {},
     "output_type": "execute_result"
    }
   ],
   "source": [
    "import numpy as np\n",
    "import pandas as pd\n",
    " \n",
    "df = pd.read_csv('C:/Users/Orestis/Desktop/1.Diplomatiki/Data/Item Data/imagenewsreel-itemData.csv', delimiter=';', header=None, escapechar='\\\\', quotechar='\\\"')\n",
    "df.columns = ['id','imageId','title','publisher','url','image_url','stemmed','date','article_id']\n",
    "\n",
    "nonull_df = df.dropna(how='any', axis = 0)\n",
    "nonull_df.shape\n",
    "\n",
    "final_df = nonull_df.drop_duplicates(subset = 'article_id')\n",
    "final_df.shape,type(final_df)"
   ]
  },
  {
   "cell_type": "code",
   "execution_count": 3,
   "metadata": {},
   "outputs": [
    {
     "data": {
      "text/plain": [
       "51260"
      ]
     },
     "execution_count": 3,
     "metadata": {},
     "output_type": "execute_result"
    }
   ],
   "source": [
    "import pickle\n",
    "\n",
    "with open('publisher_codes.pk', 'rb') as handle:\n",
    "    publishers = pickle.load(handle)\n",
    "len(publishers)  ###prepei na einai o arithmos twn arthrwn"
   ]
  },
  {
   "cell_type": "code",
   "execution_count": 27,
   "metadata": {},
   "outputs": [
    {
     "data": {
      "text/plain": [
       "51260"
      ]
     },
     "execution_count": 27,
     "metadata": {},
     "output_type": "execute_result"
    }
   ],
   "source": [
    "with open('word_codes_emb.pk', 'rb') as handle:\n",
    "    word_codes = pickle.load(handle)\n",
    "len(word_codes)"
   ]
  },
  {
   "cell_type": "code",
   "execution_count": 28,
   "metadata": {},
   "outputs": [
    {
     "data": {
      "text/plain": [
       "51260"
      ]
     },
     "execution_count": 28,
     "metadata": {},
     "output_type": "execute_result"
    }
   ],
   "source": [
    "with open('article_id.pk', 'rb') as handle:\n",
    "    article_id = pickle.load(handle)\n",
    "len(article_id)"
   ]
  },
  {
   "cell_type": "code",
   "execution_count": 31,
   "metadata": {},
   "outputs": [
    {
     "data": {
      "text/plain": [
       "51260"
      ]
     },
     "execution_count": 31,
     "metadata": {},
     "output_type": "execute_result"
    }
   ],
   "source": [
    "### Ftiaxnw 2 ksexwrista dicts gia ta word codes kai tous publishers\n",
    "dict1 = {}\n",
    "for article,code in zip(article_id,word_codes):\n",
    "    dict1[article] = code\n",
    "len(dict1)    "
   ]
  },
  {
   "cell_type": "code",
   "execution_count": 30,
   "metadata": {},
   "outputs": [
    {
     "data": {
      "text/plain": [
       "51260"
      ]
     },
     "execution_count": 30,
     "metadata": {},
     "output_type": "execute_result"
    }
   ],
   "source": [
    "dict2 = {}\n",
    "for article,pub in zip(article_id, publishers):\n",
    "    dict2[article] = pub\n",
    "len(dict2)"
   ]
  },
  {
   "cell_type": "code",
   "execution_count": 29,
   "metadata": {},
   "outputs": [
    {
     "data": {
      "text/plain": [
       "51260"
      ]
     },
     "execution_count": 29,
     "metadata": {},
     "output_type": "execute_result"
    }
   ],
   "source": [
    "###Main dictionary\n",
    "data = {}\n",
    "for article, codes, pub in zip(article_id, word_codes, publishers):\n",
    "    data[article] = {'word_codes': codes, 'publishers': pub}\n",
    "len(data)"
   ]
  },
  {
   "cell_type": "code",
   "execution_count": 4,
   "metadata": {},
   "outputs": [
    {
     "data": {
      "text/plain": [
       "49299"
      ]
     },
     "execution_count": 4,
     "metadata": {},
     "output_type": "execute_result"
    }
   ],
   "source": [
    "## einai dictionary poy exei key to article_id kai value to tuple[annotation_code,probability]..emas mas endiaferei mono to article_id\n",
    "with open('image_annotations.pk', 'rb') as handle:\n",
    "    image_annotations = pickle.load(handle)\n",
    "len(image_annotations)"
   ]
  },
  {
   "cell_type": "code",
   "execution_count": 30,
   "metadata": {},
   "outputs": [
    {
     "data": {
      "text/plain": [
       "(49299, 998)"
      ]
     },
     "execution_count": 30,
     "metadata": {},
     "output_type": "execute_result"
    }
   ],
   "source": [
    "### einai enas numpy array pou exei to probability stin thesi tou antistoixou annotation kai miden stis alles theseis...auto thelw\n",
    "with open('annotation_matrix.pk', 'rb') as handle:\n",
    "    annotation_matrix = pickle.load(handle)\n",
    "len(annotation_matrix)\n",
    "annotation_matrix.shape"
   ]
  },
  {
   "cell_type": "code",
   "execution_count": 6,
   "metadata": {},
   "outputs": [
    {
     "data": {
      "text/plain": [
       "49299"
      ]
     },
     "execution_count": 6,
     "metadata": {},
     "output_type": "execute_result"
    }
   ],
   "source": [
    "with open('annotation_id_list.pk', 'rb') as handle:\n",
    "    id_list = pickle.load(handle)\n",
    "    \n",
    "len(id_list)\n",
    "### i lista auth brisketai se antistoixia me ton annotation matrix kai periexei ta article id's"
   ]
  },
  {
   "cell_type": "code",
   "execution_count": 7,
   "metadata": {},
   "outputs": [
    {
     "data": {
      "text/plain": [
       "669"
      ]
     },
     "execution_count": 7,
     "metadata": {},
     "output_type": "execute_result"
    }
   ],
   "source": [
    "np.min(id_list)"
   ]
  },
  {
   "cell_type": "code",
   "execution_count": null,
   "metadata": {},
   "outputs": [],
   "source": [
    "###thelw na ftiaksw ena dict pou tha exei key to article_id kai value to annotation_matrix tou arthrou"
   ]
  },
  {
   "cell_type": "code",
   "execution_count": 32,
   "metadata": {},
   "outputs": [],
   "source": [
    "###uparxei lathos antistoixia sta id gia ta annotations\n",
    "dict3 = {}\n",
    "\n",
    "for i, entry in final_df.iterrows():   #Iterate over DataFrame rows as (index, Series) pairs\n",
    "    art_id = entry[8]\n",
    "    art_index = entry[1]\n",
    "    if art_index in id_list:\n",
    "        k = id_list.index(art_index)   #The index() method searches an element in the list and returns its index. list.index(element)\n",
    "        dict3[art_id] = annotation_matrix[k]\n",
    "    else: \n",
    "        a = np.zeros([998])\n",
    "        dict3[art_id] = a\n",
    "\n",
    " #### for i,(key,value) in enumerate(immage_annotations.items()): akuro efoson exw id_list             \n",
    "    "
   ]
  },
  {
   "cell_type": "code",
   "execution_count": 66,
   "metadata": {},
   "outputs": [
    {
     "data": {
      "text/plain": [
       "51260"
      ]
     },
     "execution_count": 66,
     "metadata": {},
     "output_type": "execute_result"
    }
   ],
   "source": [
    "len(dict3)"
   ]
  },
  {
   "cell_type": "code",
   "execution_count": 33,
   "metadata": {},
   "outputs": [],
   "source": [
    "for article in article_id:\n",
    "    data[article]['annotations'] = dict3[article]"
   ]
  },
  {
   "cell_type": "code",
   "execution_count": null,
   "metadata": {},
   "outputs": [],
   "source": [
    "data"
   ]
  },
  {
   "cell_type": "code",
   "execution_count": 34,
   "metadata": {},
   "outputs": [],
   "source": [
    "with open(\"all_data_emb.pk\", 'wb') as handle:\n",
    "    pickle.dump(data, handle, protocol=pickle.HIGHEST_PROTOCOL)\n",
    "    "
   ]
  }
 ],
 "metadata": {
  "kernelspec": {
   "display_name": "Python 3",
   "language": "python",
   "name": "python3"
  },
  "language_info": {
   "codemirror_mode": {
    "name": "ipython",
    "version": 3
   },
   "file_extension": ".py",
   "mimetype": "text/x-python",
   "name": "python",
   "nbconvert_exporter": "python",
   "pygments_lexer": "ipython3",
   "version": "3.6.7"
  }
 },
 "nbformat": 4,
 "nbformat_minor": 2
}
