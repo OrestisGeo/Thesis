{
 "cells": [
  {
   "cell_type": "code",
   "execution_count": 1,
   "metadata": {},
   "outputs": [],
   "source": [
    "from sklearn.preprocessing import LabelBinarizer\n",
    "from sklearn.model_selection import train_test_split\n",
    "from sklearn.metrics import classification_report\n",
    "from tensorflow.keras import layers, Model, regularizers, optimizers, constraints\n",
    "# from imutils import paths\n",
    "import matplotlib.pyplot as plt\n",
    "import numpy as np\n",
    "import argparse\n",
    "import random\n",
    "import pickle\n",
    "import cv2\n",
    "import os\n",
    "from tqdm import tqdm_notebook\n",
    "import io\n",
    "import unidecode\n",
    "import pandas as pd\n",
    "from classifiers.deep_learning.Attention import Attention\n",
    "import matplotlib.pylab as plt\n",
    "%matplotlib inline"
   ]
  },
  {
   "cell_type": "code",
   "execution_count": 19,
   "metadata": {},
   "outputs": [],
   "source": [
    "#with open('vocabulary_emb.pk', 'rb') as handle:\n",
    "my_voc = pickle.load( open(\"vocabulary_emb.pk\", \"rb\"))"
   ]
  },
  {
   "cell_type": "code",
   "execution_count": null,
   "metadata": {},
   "outputs": [],
   "source": [
    "#### TON EXW KANEI SAVE\n",
    "embedding_matrix = np.zeros((len(my_voc)+1, 300))     ##arxikopoiw enan embedding_matrix megethous (mhkos voc) x (300)\n",
    "with io.open('cc.de.300.vec', encoding='utf-8') as embedding_file:\n",
    "    for i, l in enumerate(embedding_file):\n",
    "        values = l.rstrip().rsplit(' ')     #removing whitespaces kai split\n",
    "        if i > 0:                           #h prwti thesi einai gia ton pad xaraktira ara tin prospernaw\n",
    "            word = values[0]                #sto values[0] einai i leksi kai sto values[1:] einai to duanisma tis\n",
    "            if word in my_voc:              #pairnw ta embeddings twn leksewn pou briskontai mesa sto my_voc\n",
    "                coefs = np.asarray(values[1:], dtype='float32')       #pernw tis times apo tin thesi 1 kai meta\n",
    "                embedding_matrix[my_voc[word]] = coefs\n",
    "embedding_matrix.shape #ara exw sunolo 43655 lekseis gia tis opoies phra ta embeddings"
   ]
  },
  {
   "cell_type": "code",
   "execution_count": 5,
   "metadata": {},
   "outputs": [
    {
     "data": {
      "text/plain": [
       "numpy.ndarray"
      ]
     },
     "execution_count": 5,
     "metadata": {},
     "output_type": "execute_result"
    }
   ],
   "source": [
    "type(embedding_matrix)"
   ]
  },
  {
   "cell_type": "code",
   "execution_count": 20,
   "metadata": {},
   "outputs": [
    {
     "data": {
      "text/plain": [
       "((65288, 300), 65287)"
      ]
     },
     "execution_count": 20,
     "metadata": {},
     "output_type": "execute_result"
    }
   ],
   "source": [
    "# my_voc = pickle.load( open(\"vocabulary_emb2.pk\", \"rb\"))\n",
    "# embedding_matrix = np.zeros((len(my_voc)+1, 300))\n",
    "# count = 0\n",
    "# with io.open('glove.txt', encoding='utf-8') as embedding_file:\n",
    "#     for word, l in enumerate(embedding_file):\n",
    "#         values = l.rstrip().rsplit(' ')\n",
    "#         word = values[0]\n",
    "#         if word in my_voc:\n",
    "#             count += 1\n",
    "#             coefs = np.asarray(values[1:], dtype='float32')       #pernw tis times apo tin thesi 1 kai meta\n",
    "#             embedding_matrix[my_voc[word]] = coefs\n",
    "# embedding_matrix.shape, count"
   ]
  },
  {
   "cell_type": "code",
   "execution_count": 6,
   "metadata": {},
   "outputs": [],
   "source": [
    "np.save(\"embedding_matrix\",embedding_matrix)"
   ]
  },
  {
   "cell_type": "code",
   "execution_count": 2,
   "metadata": {},
   "outputs": [],
   "source": [
    "##loading data\n",
    "with open('all_data_emb.pk', 'rb') as handle:\n",
    "    data = pickle.load(handle)\n",
    "    \n",
    "with open('training_set.pickle', 'rb') as handle:\n",
    "    train_set = pickle.load(handle)\n",
    "\n",
    "with open('test_set.pickle', 'rb') as handle:\n",
    "    test_set = pickle.load(handle)\n",
    "    \n",
    "embedding_matrix = np.load(\"embedding_matrix.npy\")\n",
    "\n",
    "# annot = {}\n",
    "# for article in article_id:\n",
    "#     annot[article] = data[article]['annotations']      ### phra mono to annotation dictionary tou kathe arthrou gia input"
   ]
  },
  {
   "cell_type": "code",
   "execution_count": 3,
   "metadata": {},
   "outputs": [
    {
     "data": {
      "text/plain": [
       "32307"
      ]
     },
     "execution_count": 3,
     "metadata": {},
     "output_type": "execute_result"
    }
   ],
   "source": [
    "len(train_set)"
   ]
  },
  {
   "cell_type": "code",
   "execution_count": null,
   "metadata": {},
   "outputs": [],
   "source": [
    "# #Getting the 10 and 10% most viewed articles\n",
    "# sorted_by_value = sorted(test_set.items(), reverse=True, key=lambda kv: kv[1])\n",
    "# len(sorted_by_value)\n",
    "\n",
    "# top10 =  sorted(train_set.items(), reverse=True, key=lambda kv: kv[1])[:10]    #dict me ta 10 arthra me ta perissotera impressions\n",
    "\n",
    "# size = int(len(train_set)*0.1)\n",
    "# print(size)\n",
    "# top10_percent =  sorted(train_set.items(), reverse=True, key=lambda kv: kv[1])[:size]\n",
    "# top10_percent\n",
    "                                                                               "
   ]
  },
  {
   "cell_type": "code",
   "execution_count": 4,
   "metadata": {},
   "outputs": [],
   "source": [
    "#NEW TRAIN/TEST SETS\n",
    "import pandas as pd\n",
    "\n",
    "week = []\n",
    "l =['00','01','02','06','07','08']\n",
    "for i in l:\n",
    "    week.append(pd.read_csv('Access_Statistics/week'+i+'.txt', header = None, sep = '\\t'))"
   ]
  },
  {
   "cell_type": "code",
   "execution_count": 5,
   "metadata": {},
   "outputs": [
    {
     "name": "stdout",
     "output_type": "stream",
     "text": [
      "13.0 538.1789320898057\n",
      "The max value of the impressions is:  468362\n",
      "The minimum value of the impressions is:  1\n"
     ]
    }
   ],
   "source": [
    "impressions = []\n",
    "for i,w in enumerate(week[1:4]):     #allakse bdomades gia testing, bazontas iso arithmo ebdomadwn kathe fora\n",
    "        temp = week[i][2].tolist()\n",
    "        impressions += temp\n",
    "        \n",
    "import statistics\n",
    "print(statistics.median(impressions),statistics.mean(impressions))\n",
    "\n",
    "print('The max value of the impressions is: ', max(impressions))\n",
    "print('The minimum value of the impressions is: ', min(impressions))"
   ]
  },
  {
   "cell_type": "code",
   "execution_count": 6,
   "metadata": {},
   "outputs": [
    {
     "name": "stdout",
     "output_type": "stream",
     "text": [
      "27941 4366\n"
     ]
    }
   ],
   "source": [
    "###to train tha einai ta unique twn 2 prwtwn bdomadwn kai to test ta unique tis 3is...episis lambanw upopsin to\n",
    "### impression mono tis prwti fora pou emfanizetai to arthro\n",
    "split_train1 = {}\n",
    "\n",
    "for w in week[:2]:    #2 prwtes bdomades(0,1)\n",
    "    for i,k in zip(w[1],w[2]):     # 1:id , 2:impression\n",
    "        if i not in split_train1:\n",
    "            split_train1[i] = k\n",
    "\n",
    "            \n",
    "split_test1 = {}\n",
    "\n",
    "for w in week[2:3]:    #3i bdomada (dld index=2)...sto indexing pairnei tin arxi kai afinei to telos eksw\n",
    "     for i,k in zip(w[1],w[2]):\n",
    "            if i not in split_test1 and i not in split_train1:\n",
    "                split_test1[i] = k    # an den uparxei to dimiourgoume arxika\n",
    "            \n",
    "\n",
    "print(len(split_train1), len(split_test1))"
   ]
  },
  {
   "cell_type": "code",
   "execution_count": 7,
   "metadata": {},
   "outputs": [
    {
     "name": "stdout",
     "output_type": "stream",
     "text": [
      "31078 4455\n"
     ]
    }
   ],
   "source": [
    "###to train tha einai ta unique twn bdomadwn 6 kai 7 kai to test ta unique tis 8is...episis lambanw upopsin to\n",
    "### impression mono tis prwti fora pou emfanizetai to arthro\n",
    "split_train2 = {}\n",
    "\n",
    "for w in week[3:5]:    # bdomades 6 kai 7\n",
    "    for i,k in zip(w[1],w[2]):     # 1:id , 2:impression\n",
    "        if i not in split_train2:\n",
    "            split_train2[i] = k\n",
    "\n",
    "            \n",
    "split_test2 = {}\n",
    "\n",
    "for w in week[5:]:              #bdomada 8\n",
    "     for i,k in zip(w[1],w[2]):\n",
    "            if i not in split_test2 and i not in split_train2:\n",
    "                split_test2[i] = k    # an den uparxei to dimiourgoume arxika\n",
    "            \n",
    "\n",
    "print(len(split_train2), len(split_test2))"
   ]
  },
  {
   "cell_type": "code",
   "execution_count": 8,
   "metadata": {},
   "outputs": [],
   "source": [
    "### sunartisi arxikopoisis\n",
    "def prepare_set_regression(set_dict):\n",
    "    WC, A, P, Y, Z_10, Z_100, Z_1000, Z_10000 = [], [], [], [], [], [], [], []   #WC= word codes, A= annotations, P= producers, Y= ta ids me ta impressions\n",
    "\n",
    "    for key,value in set_dict.items():    #key=id value=impression  ,items() method is used to return the list with all dictionary keys with values\n",
    "        if key in data:\n",
    "            Y.append(value)         ##to value einai to impression kai to key einai to article id\n",
    "            Z_10.append(1. if value > 10 else 0.)\n",
    "            Z_100.append(1. if value > 100 else 0.)\n",
    "            Z_1000.append(1. if value > 1000 else 0.)\n",
    "            Z_10000.append(1. if value > 10000 else 0.)\n",
    "            WC.append(data[key]['word_codes'])\n",
    "            A.append(np.squeeze(data[key]['annotations']))\n",
    "            P.append(data[key]['publishers'])\n",
    "\n",
    "    Y = np.expand_dims(np.array(Y), axis=1)\n",
    "    Z_10 = np.expand_dims(np.array(Z_10), axis=1)\n",
    "    Z_100 = np.expand_dims(np.array(Z_100), axis=1)\n",
    "    Z_1000 = np.expand_dims(np.array(Z_1000), axis=1)\n",
    "    Z_10000 = np.expand_dims(np.array(Z_10000), axis=1)\n",
    "    WC = np.array(WC)\n",
    "    A = np.array(A)\n",
    "    P = np.expand_dims(np.array(P), axis=1)\n",
    "    print(Y.shape, Z_10.shape, Z_100.shape, Z_1000.shape, Z_10000.shape, WC.shape, A.shape, P.shape)\n",
    "    return Y, Z_10, Z_100, Z_1000, Z_10000, WC, A, P"
   ]
  },
  {
   "cell_type": "code",
   "execution_count": 9,
   "metadata": {},
   "outputs": [],
   "source": [
    "def prepare_set_classification(set_dict):\n",
    "    WC, A, P, Y = [], [], [], []   #WC= word codes, A= annotations, P= producers, Y= ta ids me ta impressions\n",
    "\n",
    "    for key,value in set_dict.items():    #key=id value=impression\n",
    "        if key in data:\n",
    "            if value<10:\n",
    "                Y.append([1, 0, 0, 0])         ##to value einai to impression kai to key einai to article id\n",
    "            elif value<100:\n",
    "                Y.append([0, 1, 0, 0])\n",
    "            elif value<1000:\n",
    "                Y.append([0, 0, 1, 0])\n",
    "            else:\n",
    "                Y.append([0, 0, 0, 1])\n",
    "            WC.append(data[key]['word_codes'])\n",
    "            A.append(np.squeeze(data[key]['annotations']))\n",
    "            P.append(data[key]['publishers'])\n",
    "\n",
    "    Y = np.array(Y)\n",
    "    WC = np.array(WC)\n",
    "    A = np.array(A)\n",
    "    P = np.expand_dims(np.array(P), axis=1)\n",
    "    print(Y.shape, WC.shape, A.shape, P.shape)\n",
    "    return Y, WC, A, P"
   ]
  },
  {
   "cell_type": "code",
   "execution_count": 231,
   "metadata": {},
   "outputs": [
    {
     "name": "stdout",
     "output_type": "stream",
     "text": [
      "(27926, 1) (27926, 1) (27926, 1) (27926, 1) (27926, 1) (27926, 29) (27926, 998) (27926, 1)\n",
      "(4365, 1) (4365, 1) (4365, 1) (4365, 1) (4365, 1) (4365, 29) (4365, 998) (4365, 1)\n"
     ]
    }
   ],
   "source": [
    "#SPLIT 1 SETS\n",
    "Y_train, Z_10_train, Z_100_train, Z_1000_train, Z_10000_train, WC_train, A_train, P_train = prepare_set_regression(split_train1)\n",
    "Y_test,  Z_10_test, Z_100_test, Z_1000_test, Z_10000_test, WC_test, A_test, P_test = prepare_set_regression(split_test1)"
   ]
  },
  {
   "cell_type": "code",
   "execution_count": 256,
   "metadata": {},
   "outputs": [
    {
     "name": "stdout",
     "output_type": "stream",
     "text": [
      "(31058, 1) (31058, 1) (31058, 1) (31058, 1) (31058, 1) (31058, 29) (31058, 998) (31058, 1)\n",
      "(4454, 1) (4454, 1) (4454, 1) (4454, 1) (4454, 1) (4454, 29) (4454, 998) (4454, 1)\n"
     ]
    }
   ],
   "source": [
    "#SPLIT 2 SETS\n",
    "Y_train, Z_10_train, Z_100_train, Z_1000_train, Z_10000_train, WC_train, A_train, P_train = prepare_set_regression(split_train2)\n",
    "Y_test,  Z_10_test, Z_100_test, Z_1000_test, Z_10000_test, WC_test, A_test, P_test = prepare_set_regression(split_test2)"
   ]
  },
  {
   "cell_type": "code",
   "execution_count": 15,
   "metadata": {},
   "outputs": [
    {
     "name": "stdout",
     "output_type": "stream",
     "text": [
      "(27926, 4) (27926, 29) (27926, 998) (27926, 1)\n",
      "(4365, 4) (4365, 29) (4365, 998) (4365, 1)\n"
     ]
    }
   ],
   "source": [
    "# CLASSIFICATION SET 1\n",
    "Y_train, WC_train, A_train, P_train = prepare_set_classification(split_train1)\n",
    "Y_test, WC_test, A_test, P_test = prepare_set_classification(split_test1)"
   ]
  },
  {
   "cell_type": "code",
   "execution_count": 97,
   "metadata": {},
   "outputs": [
    {
     "name": "stdout",
     "output_type": "stream",
     "text": [
      "(31058, 4) (31058, 29) (31058, 998) (31058, 1)\n",
      "(4454, 4) (4454, 29) (4454, 998) (4454, 1)\n"
     ]
    }
   ],
   "source": [
    "# CLASSIFICATION SET 2\n",
    "Y_train, WC_train, A_train, P_train = prepare_set_classification(split_train2)\n",
    "Y_test, WC_test, A_test, P_test = prepare_set_classification(split_test2)"
   ]
  },
  {
   "cell_type": "code",
   "execution_count": null,
   "metadata": {},
   "outputs": [],
   "source": []
  },
  {
   "cell_type": "code",
   "execution_count": 640,
   "metadata": {},
   "outputs": [
    {
     "name": "stdout",
     "output_type": "stream",
     "text": [
      "(32291, 1) (32291, 29) (32291, 998) (32291, 1)\n"
     ]
    }
   ],
   "source": [
    "###Arxiko training data sets , xwrismeno se train oi 3 prwtes kai test oi 3 teleutaies\n",
    "\n",
    "WC_train, A_train, P_train, Y_train = [], [], [], []   #WC= word codes, A= annotations, P= producers, Y= ta ids me ta impressions\n",
    "\n",
    "for key,value in train_set.items():    #key=id value=impression\n",
    "    if key in data:\n",
    "        Y_train.append(value)         ##to value einai to impression kai to key einai to article id\n",
    "        WC_train.append(data[key]['word_codes'])\n",
    "        A_train.append(np.squeeze(data[key]['annotations']))\n",
    "        P_train.append(data[key]['publishers'])\n",
    "\n",
    "Y_train = np.expand_dims(np.array(Y_train), axis=1)\n",
    "WC_train = np.array(WC_train)\n",
    "A_train = np.array(A_train)\n",
    "P_train = np.expand_dims(np.array(P_train), axis=1)\n",
    "\n",
    "print(Y_train.shape, WC_train.shape, A_train.shape, P_train.shape)"
   ]
  },
  {
   "cell_type": "code",
   "execution_count": 745,
   "metadata": {},
   "outputs": [
    {
     "name": "stdout",
     "output_type": "stream",
     "text": [
      "(32291, 1) (32291, 29) (32291, 998) (32291, 1)\n",
      "(9615, 1) (9615, 29) (9615, 998) (9615, 1)\n"
     ]
    }
   ],
   "source": [
    "# 3 FIRST WEEKS TRAIN SET - 3 LAST WEEKS TEST SET   , to ftiaxnw sto 640\n",
    "Y_train, WC_train, A_train, P_train = prepare_set(train_set)\n",
    "Y_test, WC_test, A_test, P_test = prepare_set(test_set)"
   ]
  },
  {
   "cell_type": "code",
   "execution_count": null,
   "metadata": {},
   "outputs": [],
   "source": []
  },
  {
   "cell_type": "code",
   "execution_count": 17,
   "metadata": {},
   "outputs": [
    {
     "data": {
      "text/plain": [
       "300"
      ]
     },
     "execution_count": 17,
     "metadata": {},
     "output_type": "execute_result"
    }
   ],
   "source": [
    "embedding_matrix.shape[1]"
   ]
  },
  {
   "cell_type": "code",
   "execution_count": 16,
   "metadata": {},
   "outputs": [],
   "source": [
    "#MAIN MODEL\n",
    "from tensorflow.keras import backend as K \n",
    "import tensorflow as tf\n",
    "K.clear_session()\n",
    "config = tf.ConfigProto()\n",
    "config.gpu_options.allow_growth = True\n",
    "K.set_session(tf.Session(config=config))\n",
    "\n",
    "r = 5e-4\n",
    "\n",
    "#################################word_branch#########################################################\n",
    "input_words = layers.Input(shape=(WC_train.shape[1],))\n",
    "\n",
    "embeddings_words = layers.Embedding(embedding_matrix.shape[0], embedding_matrix.shape[1],                   #megethos voc,megethos eksodou embedding\n",
    "                              input_length=WC_train.shape[1], weights=[embedding_matrix], name='embedding_words')(input_words)  #megethos eisodou\n",
    "\n",
    "cnn = layers.Conv1D(8, 1, padding='same', activation='relu', strides=1,\n",
    "                   kernel_regularizer=regularizers.l2(r)) (embeddings_words)\n",
    "cnn = layers.GlobalMaxPooling1D()(cnn)    ##to 64 einai o arithmos twn filtrwn\n",
    "\n",
    "cnn1 = layers.Conv1D(8, 2, padding='same', activation='relu', strides=1,\n",
    "                    kernel_regularizer=regularizers.l2(r)) (embeddings_words)\n",
    "cnn1 = layers.GlobalMaxPooling1D()(cnn1)\n",
    "\n",
    "cnn2 = layers.Conv1D(8, 3, padding='same', activation='relu', strides=1,\n",
    "                    kernel_regularizer=regularizers.l2(r)) (embeddings_words)\n",
    "cnn2 = layers.GlobalMaxPooling1D()(cnn2)\n",
    "\n",
    "logits_words = layers.concatenate([cnn, cnn1, cnn2])\n",
    "\n",
    "# logits_words = layers.GRU(16, kernel_regularizer=regularizers.l2(r), bias_regularizer=regularizers.l2(r))(embeddings_words)\n",
    "# logits_words = layers.Dense(8, activation='relu',\n",
    "#                            kernel_regularizer=regularizers.l2(r), bias_regularizer=regularizers.l2(r))(logits_words)\n",
    "\n",
    "# logits_words = layers.Bidirectional(layers.GRU(8, return_sequences=True, kernel_regularizer=regularizers.l2(r),\n",
    "#                                                bias_regularizer=regularizers.l2(r)))(embeddings_words)\n",
    "# logits_words = layers.GlobalMaxPooling1D()(logits_words)\n",
    "# logits_words = Attention(8)(logits_words)\n",
    "\n",
    "\n",
    "###################################publisher_branch#######################################################\n",
    "input_pub = layers.Input(shape=(P_train.shape[1],))     # h diastasi pou periexei tous publishers\n",
    "embeddings_pub = layers.Embedding(5, 8, input_length=P_train.shape[1])(input_pub)\n",
    "embeddings_pub = layers.Flatten()(embeddings_pub)\n",
    "logits_pub = layers.Dense(4, activation='relu',\n",
    "                         kernel_regularizer=regularizers.l2(r))(embeddings_pub)\n",
    "\n",
    "###################################annotation_branch#######################################################\n",
    "input_annot = layers.Input(shape=(A_train.shape[1],))  #h diastash twn annotations dld 998 gia kathe arthro\n",
    "logits_annot = layers.Dense(64,activation='relu',\n",
    "                           kernel_regularizer=regularizers.l2(r))(input_annot)\n",
    "\n",
    "logits_annot = layers.Dense(32,activation='relu',\n",
    "                           kernel_regularizer=regularizers.l2(r))(logits_annot)\n",
    "\n",
    "###################################all_together#######################################################\n",
    "logits = layers.concatenate([logits_words, logits_pub, logits_annot])       #enwsh (1,5) (1,3) (1,10) ara sunolo (1,18)\n",
    "\n",
    "logits = layers.Dense(16, activation='relu',\n",
    "                     kernel_regularizer=regularizers.l2(r))(logits)"
   ]
  },
  {
   "cell_type": "code",
   "execution_count": null,
   "metadata": {},
   "outputs": [],
   "source": [
    "#REGRESSION MODEL\n",
    "out = layers.Dense(1, activation=None, kernel_regularizer=regularizers.l2(r))(logits)\n",
    "\n",
    "model = Model(inputs=[input_words, input_pub, input_annot],  outputs=[out])\n",
    "\n",
    "for l in model.layers:\n",
    "    if 'embedding_words' == l.name:\n",
    "        l.trainable = False\n",
    "\n",
    "opt = optimizers.SGD(lr=0.1, momentum=0.9)\n",
    "model.compile(loss=[\"mean_squared_logarithmic_error\"],\n",
    "              optimizer=opt, \n",
    "              metrics=['mean_squared_logarithmic_error'])\n",
    "model.summary()"
   ]
  },
  {
   "cell_type": "code",
   "execution_count": 219,
   "metadata": {},
   "outputs": [],
   "source": [
    "#MAIN MODEL 2\n",
    "from tensorflow.keras import backend as K \n",
    "import tensorflow as tf\n",
    "K.clear_session()\n",
    "config = tf.ConfigProto()\n",
    "config.gpu_options.allow_growth = True\n",
    "K.set_session(tf.Session(config=config))\n",
    "\n",
    "r = 5e-4\n",
    "\n",
    "#################################word_branch#########################################################\n",
    "input_words = layers.Input(shape=(WC_train.shape[1],))\n",
    "\n",
    "embeddings_words = layers.Embedding(embedding_matrix.shape[0], embedding_matrix.shape[1],                   #megethos voc,megethos eksodou embedding\n",
    "                              input_length=WC_train.shape[1], weights=[embedding_matrix], name='embedding_words')(input_words)  #megethos eisodou\n",
    "\n",
    "cnn = layers.Conv1D(8, 1, padding='same', activation='relu', strides=1,\n",
    "                   kernel_regularizer=regularizers.l2(r)) (embeddings_words)\n",
    "cnn = layers.GlobalMaxPooling1D()(cnn)    ##to 64 einai o arithmos twn filtrwn\n",
    "\n",
    "cnn1 = layers.Conv1D(8, 2, padding='same', activation='relu', strides=1,\n",
    "                    kernel_regularizer=regularizers.l2(r)) (embeddings_words)\n",
    "cnn1 = layers.GlobalMaxPooling1D()(cnn1)\n",
    "\n",
    "cnn2 = layers.Conv1D(8, 3, padding='same', activation='relu', strides=1,\n",
    "                    kernel_regularizer=regularizers.l2(r)) (embeddings_words)\n",
    "cnn2 = layers.GlobalMaxPooling1D()(cnn2)\n",
    "\n",
    "logits_words = layers.concatenate([cnn, cnn1, cnn2])\n",
    "\n",
    "\n",
    "\n",
    "# ##################################publisher_branch#######################################################\n",
    "# input_pub = layers.Input(shape=(P_train.shape[1],))     # h diastasi pou periexei tous publishers\n",
    "# embeddings_pub = layers.Embedding(5, 8, input_length=P_train.shape[1])(input_pub)\n",
    "# embeddings_pub = layers.Flatten()(embeddings_pub)\n",
    "# logits_pub = layers.Dense(4, activation='relu',\n",
    "#                          kernel_regularizer=regularizers.l2(r))(embeddings_pub)\n",
    "\n",
    "# ###################################annotation_branch#######################################################\n",
    "# input_annot = layers.Input(shape=(A_train.shape[1],))  #h diastash twn annotations dld 998 gia kathe arthro\n",
    "# logits_annot = layers.Dense(64,activation='relu',\n",
    "#                            kernel_regularizer=regularizers.l2(r))(input_annot)\n",
    "\n",
    "# logits_annot = layers.Dense(32,activation='relu',\n",
    "#                            kernel_regularizer=regularizers.l2(r))(logits_annot)\n",
    "\n",
    "##################################all_together#######################################################\n",
    "# logits = layers.concatenate([logits_words])       #enwsh (1,5) (1,3) (1,10) ara sunolo (1,18)\n",
    "\n",
    "logits = layers.Dense(16, activation='relu',\n",
    "                     kernel_regularizer=regularizers.l2(r))(logits_words)"
   ]
  },
  {
   "cell_type": "code",
   "execution_count": null,
   "metadata": {},
   "outputs": [],
   "source": [
    "#REGRESSION MODEL 2\n",
    "out = layers.Dense(1, activation=None, kernel_regularizer=regularizers.l2(r))(logits)\n",
    "\n",
    "model = Model(inputs=[input_words , input_annot],  outputs=[out])\n",
    "\n",
    "for l in model.layers:\n",
    "    if 'embedding_words' == l.name:\n",
    "        l.trainable = False\n",
    "\n",
    "opt = optimizers.SGD(lr=0.1, momentum=0.9)\n",
    "model.compile(loss=[\"mean_squared_logarithmic_error\"],\n",
    "              optimizer=opt, \n",
    "              metrics=['mean_squared_logarithmic_error'])\n",
    "model.summary()"
   ]
  },
  {
   "cell_type": "code",
   "execution_count": 220,
   "metadata": {},
   "outputs": [
    {
     "name": "stdout",
     "output_type": "stream",
     "text": [
      "__________________________________________________________________________________________________\n",
      "Layer (type)                    Output Shape         Param #     Connected to                     \n",
      "==================================================================================================\n",
      "input_1 (InputLayer)            (None, 29)           0                                            \n",
      "__________________________________________________________________________________________________\n",
      "embedding_words (Embedding)     (None, 29, 300)      13096500    input_1[0][0]                    \n",
      "__________________________________________________________________________________________________\n",
      "conv1d (Conv1D)                 (None, 29, 8)        2408        embedding_words[0][0]            \n",
      "__________________________________________________________________________________________________\n",
      "conv1d_1 (Conv1D)               (None, 29, 8)        4808        embedding_words[0][0]            \n",
      "__________________________________________________________________________________________________\n",
      "conv1d_2 (Conv1D)               (None, 29, 8)        7208        embedding_words[0][0]            \n",
      "__________________________________________________________________________________________________\n",
      "global_max_pooling1d (GlobalMax (None, 8)            0           conv1d[0][0]                     \n",
      "__________________________________________________________________________________________________\n",
      "global_max_pooling1d_1 (GlobalM (None, 8)            0           conv1d_1[0][0]                   \n",
      "__________________________________________________________________________________________________\n",
      "global_max_pooling1d_2 (GlobalM (None, 8)            0           conv1d_2[0][0]                   \n",
      "__________________________________________________________________________________________________\n",
      "concatenate (Concatenate)       (None, 24)           0           global_max_pooling1d[0][0]       \n",
      "                                                                 global_max_pooling1d_1[0][0]     \n",
      "                                                                 global_max_pooling1d_2[0][0]     \n",
      "__________________________________________________________________________________________________\n",
      "dense (Dense)                   (None, 16)           400         concatenate[0][0]                \n",
      "__________________________________________________________________________________________________\n",
      "dense_1 (Dense)                 (None, 4)            68          dense[0][0]                      \n",
      "==================================================================================================\n",
      "Total params: 13,111,392\n",
      "Trainable params: 14,892\n",
      "Non-trainable params: 13,096,500\n",
      "__________________________________________________________________________________________________\n"
     ]
    }
   ],
   "source": [
    "# CLASSIFICATION MODEL 2\n",
    "out = layers.Dense(4, activation='softmax', kernel_regularizer=regularizers.l2(r))(logits)\n",
    "\n",
    "model = Model(inputs=[input_words],  outputs=[out])\n",
    "\n",
    "for l in model.layers:\n",
    "    if 'embedding_words' == l.name:\n",
    "        l.trainable = False\n",
    "\n",
    "opt = optimizers.SGD(lr=0.1, momentum=0.9)\n",
    "model.compile(loss=[\"categorical_crossentropy\"], optimizer=opt, metrics=['accuracy'])\n",
    "model.summary()"
   ]
  },
  {
   "cell_type": "code",
   "execution_count": null,
   "metadata": {},
   "outputs": [],
   "source": [
    "##Main Models Below"
   ]
  },
  {
   "cell_type": "code",
   "execution_count": null,
   "metadata": {},
   "outputs": [],
   "source": [
    "#REGRESSION + AUXILIARY MODEL\n",
    "out = layers.Dense(1, activation=None, kernel_regularizer=regularizers.l2(r))(logits)\n",
    "\n",
    "l1 = layers.Dense(1, activation='sigmoid', kernel_regularizer=regularizers.l2(r))(logits)\n",
    "l2 = layers.Dense(1, activation='sigmoid', kernel_regularizer=regularizers.l2(r))(logits)\n",
    "l3 = layers.Dense(1, activation='sigmoid', kernel_regularizer=regularizers.l2(r))(logits)\n",
    "l4 = layers.Dense(1, activation='sigmoid', kernel_regularizer=regularizers.l2(r))(logits)  #ginontai 4 extra predictions\n",
    "\n",
    "model = Model(inputs=[input_words, input_pub, input_annot],  outputs=[out, l1, l2, l3, l4])\n",
    "\n",
    "for l in model.layers:\n",
    "    if 'embedding_words' == l.name:\n",
    "        l.trainable = False\n",
    "\n",
    "opt = optimizers.SGD(lr=0.001, momentum=0.9)\n",
    "model.compile(loss=[\"mean_squared_logarithmic_error\", \"binary_crossentropy\", \"binary_crossentropy\", \"binary_crossentropy\", \"binary_crossentropy\"],\n",
    "              optimizer=opt, \n",
    "              metrics=['mean_squared_logarithmic_error', \"accuracy\"],\n",
    "              loss_weights=[1, 2, 2, 2, 2])\n",
    "model.summary()"
   ]
  },
  {
   "cell_type": "code",
   "execution_count": 17,
   "metadata": {},
   "outputs": [
    {
     "name": "stdout",
     "output_type": "stream",
     "text": [
      "__________________________________________________________________________________________________\n",
      "Layer (type)                    Output Shape         Param #     Connected to                     \n",
      "==================================================================================================\n",
      "input_1 (InputLayer)            (None, 29)           0                                            \n",
      "__________________________________________________________________________________________________\n",
      "embedding_words (Embedding)     (None, 29, 300)      13096500    input_1[0][0]                    \n",
      "__________________________________________________________________________________________________\n",
      "input_2 (InputLayer)            (None, 1)            0                                            \n",
      "__________________________________________________________________________________________________\n",
      "conv1d (Conv1D)                 (None, 29, 8)        2408        embedding_words[0][0]            \n",
      "__________________________________________________________________________________________________\n",
      "conv1d_1 (Conv1D)               (None, 29, 8)        4808        embedding_words[0][0]            \n",
      "__________________________________________________________________________________________________\n",
      "conv1d_2 (Conv1D)               (None, 29, 8)        7208        embedding_words[0][0]            \n",
      "__________________________________________________________________________________________________\n",
      "embedding (Embedding)           (None, 1, 8)         40          input_2[0][0]                    \n",
      "__________________________________________________________________________________________________\n",
      "input_3 (InputLayer)            (None, 998)          0                                            \n",
      "__________________________________________________________________________________________________\n",
      "global_max_pooling1d (GlobalMax (None, 8)            0           conv1d[0][0]                     \n",
      "__________________________________________________________________________________________________\n",
      "global_max_pooling1d_1 (GlobalM (None, 8)            0           conv1d_1[0][0]                   \n",
      "__________________________________________________________________________________________________\n",
      "global_max_pooling1d_2 (GlobalM (None, 8)            0           conv1d_2[0][0]                   \n",
      "__________________________________________________________________________________________________\n",
      "flatten (Flatten)               (None, 8)            0           embedding[0][0]                  \n",
      "__________________________________________________________________________________________________\n",
      "dense_1 (Dense)                 (None, 64)           63936       input_3[0][0]                    \n",
      "__________________________________________________________________________________________________\n",
      "concatenate (Concatenate)       (None, 24)           0           global_max_pooling1d[0][0]       \n",
      "                                                                 global_max_pooling1d_1[0][0]     \n",
      "                                                                 global_max_pooling1d_2[0][0]     \n",
      "__________________________________________________________________________________________________\n",
      "dense (Dense)                   (None, 4)            36          flatten[0][0]                    \n",
      "__________________________________________________________________________________________________\n",
      "dense_2 (Dense)                 (None, 32)           2080        dense_1[0][0]                    \n",
      "__________________________________________________________________________________________________\n",
      "concatenate_1 (Concatenate)     (None, 60)           0           concatenate[0][0]                \n",
      "                                                                 dense[0][0]                      \n",
      "                                                                 dense_2[0][0]                    \n",
      "__________________________________________________________________________________________________\n",
      "dense_3 (Dense)                 (None, 16)           976         concatenate_1[0][0]              \n",
      "__________________________________________________________________________________________________\n",
      "dense_4 (Dense)                 (None, 4)            68          dense_3[0][0]                    \n",
      "==================================================================================================\n",
      "Total params: 13,178,060\n",
      "Trainable params: 81,560\n",
      "Non-trainable params: 13,096,500\n",
      "__________________________________________________________________________________________________\n"
     ]
    }
   ],
   "source": [
    "# CLASSIFICATION MODEL\n",
    "out = layers.Dense(4, activation='softmax', kernel_regularizer=regularizers.l2(r))(logits)\n",
    "\n",
    "model = Model(inputs=[input_words, input_pub, input_annot],  outputs=[out])\n",
    "\n",
    "for l in model.layers:\n",
    "    if 'embedding_words' == l.name:\n",
    "        l.trainable = False\n",
    "\n",
    "opt = optimizers.SGD(lr=0.01, momentum=0.9)\n",
    "model.compile(loss=[\"categorical_crossentropy\"], optimizer=opt, metrics=['accuracy'])\n",
    "model.summary()"
   ]
  },
  {
   "cell_type": "code",
   "execution_count": 63,
   "metadata": {},
   "outputs": [
    {
     "data": {
      "text/plain": [
       "((27926, 1),\n",
       " (4365, 1),\n",
       " (27926, 998),\n",
       " (4365, 998),\n",
       " (27926, 1),\n",
       " (4365, 1),\n",
       " (27926, 29),\n",
       " (4365, 29))"
      ]
     },
     "execution_count": 63,
     "metadata": {},
     "output_type": "execute_result"
    }
   ],
   "source": [
    "Y_train.shape , Y_test.shape , A_train.shape ,  A_test.shape , P_train.shape , P_test.shape , WC_train.shape , WC_test.shape"
   ]
  },
  {
   "cell_type": "code",
   "execution_count": 80,
   "metadata": {},
   "outputs": [
    {
     "data": {
      "text/plain": [
       "((4481,), (753,), 4906.6085695157335, 418.0)"
      ]
     },
     "execution_count": 80,
     "metadata": {},
     "output_type": "execute_result"
    }
   ],
   "source": [
    "train_ids = np.where(Y_train > 100)[0]    #pentaplasiazei to mean kai x25 to median ara mikrainei tin psalida\n",
    "test_ids = np.where(Y_test > 100)[0]\n",
    "# train_ids = np.where(Y_train)[0]\n",
    "# test_ids = np.where(Y_test)[0]\n",
    "WC_train = WC_train[train_ids]\n",
    "P_train = P_train[train_ids]\n",
    "A_train = A_train[train_ids]\n",
    "Y_train = Y_train[train_ids]\n",
    "WC_test = WC_test[test_ids]\n",
    "P_test = P_test[test_ids]\n",
    "Y_test = Y_test[test_ids]\n",
    "A_test = A_test[test_ids]\n",
    "train_ids.shape, test_ids.shape, Y_train.mean(), np.median(Y_train)"
   ]
  },
  {
   "cell_type": "code",
   "execution_count": 81,
   "metadata": {},
   "outputs": [
    {
     "data": {
      "text/plain": [
       "75"
      ]
     },
     "execution_count": 81,
     "metadata": {},
     "output_type": "execute_result"
    }
   ],
   "source": [
    "#Sorting Test Set...swzw ta indexes twn dimofilesterwn arthwn tou pinaka Y_test\n",
    "top10, top10_percent, top10_test = [], [], []\n",
    "top10 = (-Y_test).argsort(axis = 0)[:10]  #pairnw ta 10 prwta stoixeia tou arnitikou pinaka, ara ta 10 megalutera\n",
    "# top10_test = Y_test.argsort(axis = 0)[::-1][:10]   # douleuei kai etsi\n",
    "\n",
    "size = int(len(Y_test)*0.1)\n",
    "\n",
    "top10_percent = (-Y_test).argsort(axis = 0)[:size]\n",
    "len(top10_percent)"
   ]
  },
  {
   "cell_type": "code",
   "execution_count": 66,
   "metadata": {},
   "outputs": [
    {
     "data": {
      "text/plain": [
       "(3540, 1)"
      ]
     },
     "execution_count": 66,
     "metadata": {},
     "output_type": "execute_result"
    }
   ],
   "source": [
    "Y_train.shape"
   ]
  },
  {
   "cell_type": "code",
   "execution_count": 130,
   "metadata": {},
   "outputs": [
    {
     "data": {
      "application/vnd.jupyter.widget-view+json": {
       "model_id": "8ed663414c274d758be0a1e46ec164f7",
       "version_major": 2,
       "version_minor": 0
      },
      "text/plain": [
       "HBox(children=(IntProgress(value=0, max=1000), HTML(value='')))"
      ]
     },
     "metadata": {},
     "output_type": "display_data"
    },
    {
     "name": "stdout",
     "output_type": "stream",
     "text": [
      "\n"
     ]
    }
   ],
   "source": [
    "# REGRESSION TRAINING\n",
    "iterations = 500\n",
    "WC_t, WC_val, P_t, P_val, A_t, A_val, Y_t, Y_val = train_test_split(WC_train, P_train, A_train, Y_train, random_state=42, test_size=0.1)\n",
    "\n",
    "#arxika kanw split se train set kai test set gia tis 3 prwtes ebdomades\n",
    "#WC_tr, WC_te, P_tr, P_te, A_tr, A_te, Y_tr, Y_te = train_test_split(WC_train, P_train, A_train, Y_train, random_state=42, test_size=0.2)\n",
    "#WC_t, WC_val, P_t, P_val, A_t, A_val, Y_t, Y_val = train_test_split(WC_tr, P_tr, A_tr, Y_tr, random_state=42, test_size=0.1)\n",
    "\n",
    "pbar = tqdm_notebook(range(iterations))   #einai to progress bar apo to tqdm\n",
    "min_loss_val, min_loss_test = 100, 100\n",
    "plot_train, plot_val, plot_test = [], [], []\n",
    "for i in pbar:\n",
    "    history = model.fit([WC_t, P_t, A_t], Y_t, epochs=1, batch_size=32, verbose=0)\n",
    "    loss_val = model.evaluate([WC_val, P_val, A_val], Y_val, verbose=0)[1]   # to [1] epistrefei to vall loss..to [0] einai to to loss + regularized error\n",
    "    loss_test = model.evaluate([WC_test, P_test, A_test], Y_test, verbose=0)[1]\n",
    "    plot_train.append(history.history['mean_squared_logarithmic_error'][0])\n",
    "    plot_val.append(loss_val)\n",
    "    plot_test.append(loss_test)\n",
    "    if loss_val < min_loss_val:\n",
    "        model.save(\"regression_model_split1_1.h5\")\n",
    "        min_loss_val = loss_val\n",
    "        min_loss_test = loss_test\n",
    "    pbar.set_postfix(loss_train=history.history['mean_squared_logarithmic_error'][0],\n",
    "                     loss_val=loss_val, loss_test=loss_test, \n",
    "                     min_loss_val=min_loss_val, min_loss_test=min_loss_test)\n",
    "    ####na apothikeusw to modelo me to mikrotero validation loss"
   ]
  },
  {
   "cell_type": "code",
   "execution_count": 210,
   "metadata": {},
   "outputs": [
    {
     "data": {
      "application/vnd.jupyter.widget-view+json": {
       "model_id": "ce8dcf796307434685f8e8c7d018cb9d",
       "version_major": 2,
       "version_minor": 0
      },
      "text/plain": [
       "HBox(children=(IntProgress(value=0, max=500), HTML(value='')))"
      ]
     },
     "metadata": {},
     "output_type": "display_data"
    }
   ],
   "source": [
    "# REGRESSION TRAINING 2\n",
    "iterations = 500\n",
    "WC_t, WC_val, P_t, P_val, A_t, A_val, Y_t, Y_val = train_test_split(WC_train, P_train, A_train, Y_train, random_state=42, test_size=0.1)\n",
    "\n",
    "#arxika kanw split se train set kai test set gia tis 3 prwtes ebdomades\n",
    "#WC_tr, WC_te, P_tr, P_te, A_tr, A_te, Y_tr, Y_te = train_test_split(WC_train, P_train, A_train, Y_train, random_state=42, test_size=0.2)\n",
    "#WC_t, WC_val, P_t, P_val, A_t, A_val, Y_t, Y_val = train_test_split(WC_tr, P_tr, A_tr, Y_tr, random_state=42, test_size=0.1)\n",
    "\n",
    "pbar = tqdm_notebook(range(iterations))   #einai to progress bar apo to tqdm\n",
    "min_loss_val, min_loss_test = 100, 100\n",
    "plot_train, plot_val, plot_test = [], [], []\n",
    "for i in pbar:\n",
    "    history = model.fit([WC_t, A_t], Y_t, epochs=1, batch_size=32, verbose=0)\n",
    "    loss_val = model.evaluate([WC_val, A_val], Y_val, verbose=0)[1]   # to [1] epistrefei to vall loss..to [0] einai to to loss + regularized error\n",
    "    loss_test = model.evaluate([WC_test, A_test], Y_test, verbose=0)[1]\n",
    "    plot_train.append(history.history['mean_squared_logarithmic_error'][0])\n",
    "    plot_val.append(loss_val)\n",
    "    plot_test.append(loss_test)\n",
    "    if loss_val < min_loss_val:\n",
    "        model.save(\"regression_P.h5\")\n",
    "        min_loss_val = loss_val\n",
    "        min_loss_test = loss_test\n",
    "    pbar.set_postfix(loss_train=history.history['mean_squared_logarithmic_error'][0],\n",
    "                     loss_val=loss_val, loss_test=loss_test, \n",
    "                     min_loss_val=min_loss_val, min_loss_test=min_loss_test)\n",
    "    ####na apothikeusw to modelo me to mikrotero validation loss"
   ]
  },
  {
   "cell_type": "code",
   "execution_count": null,
   "metadata": {},
   "outputs": [
    {
     "data": {
      "application/vnd.jupyter.widget-view+json": {
       "model_id": "d9d2f95c9d2f45e09a5e75f35d63d628",
       "version_major": 2,
       "version_minor": 0
      },
      "text/plain": [
       "HBox(children=(IntProgress(value=0, max=500), HTML(value='')))"
      ]
     },
     "metadata": {},
     "output_type": "display_data"
    }
   ],
   "source": [
    "# CLASSIFICATION TRAINING 2\n",
    "iterations = 500\n",
    "\n",
    "WC_t, WC_val, P_t, P_val, A_t, A_val, Y_t, Y_val = train_test_split(WC_train, P_train, A_train, Y_train, random_state=42, test_size=0.2)\n",
    "\n",
    "pbar = tqdm_notebook(range(iterations))   #einai to progress bar apo to tqdm\n",
    "max_acc_val, max_acc_test = 0, 0\n",
    "plot_train, plot_val, plot_test = [], [], []\n",
    "for i in pbar:\n",
    "    history = model.fit([WC_t], Y_t, epochs=1, batch_size=32, verbose=0)\n",
    "    acc_val = model.evaluate([WC_val], Y_val, verbose=0)[1]   # to [1] epistrefei to vall loss..to [0] einai to to loss + regularized error\n",
    "    acc_test = model.evaluate([WC_test], Y_test, verbose=0)[1]\n",
    "    plot_train.append(history.history['acc'][0])\n",
    "    plot_val.append(acc_val)\n",
    "    plot_test.append(acc_test)\n",
    "    if acc_val > max_acc_val:\n",
    "        model.save(\"classification_model_W.h5\")\n",
    "        max_acc_val = acc_val\n",
    "        max_acc_test = acc_test\n",
    "    pbar.set_postfix(acc_train=history.history['acc'][0],\n",
    "                     acc_val=acc_val, acc_test=acc_test, \n",
    "                     max_acc_val=max_acc_val, max_acc_test=max_acc_test)\n",
    "    ####na apothikeusw to modelo me to mikrotero validation loss"
   ]
  },
  {
   "cell_type": "code",
   "execution_count": null,
   "metadata": {},
   "outputs": [],
   "source": [
    "#REGRESSION + AUX TRAINING\n",
    "iterations = 500\n",
    "\n",
    "WC_t, WC_val, P_t, P_val, A_t, A_val = train_test_split(WC_train, P_train, A_train, random_state=42, test_size=0.1)\n",
    "Y_t, Y_val, Z_10_t, Z_10_val, Z_100_t,  Z_100_val, Z_1000_t, Z_1000_val, Z_10000_t,  Z_10000_val = train_test_split(Y_train, Z_10_train, Z_100_train, Z_1000_train, Z_10000_train, random_state=42, test_size=0.1)\n",
    "\n",
    "pbar = tqdm_notebook(range(iterations))   #einai to progress bar apo to tqdm\n",
    "min_loss_val, min_loss_test = 100, 100\n",
    "plot_train, plot_val, plot_test = [], [], []\n",
    "for i in pbar:\n",
    "    history = model.fit([WC_t, P_t, A_t], [Y_t, Z_10_t, Z_100_t, Z_1000_t, Z_10000_t], epochs=1, batch_size=32, verbose=0)\n",
    "    loss_val = model.evaluate([WC_val, P_val, A_val], [Y_val, Z_10_val, Z_100_val, Z_1000_val, Z_10000_val], verbose=0)[1]   # to [1] epistrefei to vall loss..to [0] einai to to loss + regularized error\n",
    "    loss_test = model.evaluate([WC_test, P_test, A_test], [Y_test, Z_10_test, Z_100_test, Z_1000_test, Z_10000_test], verbose=0)[1]\n",
    "    # print(loss_val, history.history)\n",
    "    plot_train.append(history.history['dense_4_mean_squared_logarithmic_error'][0])\n",
    "    plot_val.append(loss_val)\n",
    "    plot_test.append(loss_test)\n",
    "    if loss_val < min_loss_val:\n",
    "        model.save(\"regression_aux_model_split2_001.h5\")\n",
    "        min_loss_val = loss_val\n",
    "        min_loss_test = loss_test\n",
    "    pbar.set_postfix(loss_train=history.history['dense_4_mean_squared_logarithmic_error'][0],\n",
    "                     loss_val=loss_val, loss_test=loss_test,\n",
    "                     min_loss_val=min_loss_val, min_loss_test=min_loss_test)\n",
    "    ####na apothikeusw to modelo me to mikrotero validation loss"
   ]
  },
  {
   "cell_type": "code",
   "execution_count": 19,
   "metadata": {},
   "outputs": [
    {
     "data": {
      "application/vnd.jupyter.widget-view+json": {
       "model_id": "bdac34647e4041638752ab5a3b6d2e96",
       "version_major": 2,
       "version_minor": 0
      },
      "text/plain": [
       "HBox(children=(IntProgress(value=0, max=500), HTML(value='')))"
      ]
     },
     "metadata": {},
     "output_type": "display_data"
    }
   ],
   "source": [
    "# CLASSIFICATION TRAINING\n",
    "iterations = 500\n",
    "\n",
    "WC_t, WC_val, P_t, P_val, A_t, A_val, Y_t, Y_val = train_test_split(WC_train, P_train, A_train, Y_train, random_state=42, test_size=0.3)\n",
    "\n",
    "pbar = tqdm_notebook(range(iterations))   #einai to progress bar apo to tqdm\n",
    "max_acc_val, max_acc_test = 0, 0\n",
    "plot_train, plot_val, plot_test = [], [], []\n",
    "for i in pbar:\n",
    "    history = model.fit([WC_t, P_t, A_t], Y_t, epochs=1, batch_size=32, verbose=0)\n",
    "    acc_val = model.evaluate([WC_val, P_val, A_val], Y_val, verbose=0)[1]   # to [1] epistrefei to vall loss..to [0] einai to to loss + regularized error\n",
    "    acc_test = model.evaluate([WC_test, P_test, A_test], Y_test, verbose=0)[1]\n",
    "    plot_train.append(history.history['acc'][0])\n",
    "    plot_val.append(acc_val)\n",
    "    plot_test.append(acc_test)\n",
    "    if acc_val > max_acc_val:\n",
    "        model.save(\"classification_model_split1_01.h5\")\n",
    "        max_acc_val = acc_val\n",
    "        max_acc_test = acc_test\n",
    "    pbar.set_postfix(acc_train=history.history['acc'][0],\n",
    "                     acc_val=acc_val, acc_test=acc_test, \n",
    "                     max_acc_val=max_acc_val, max_acc_test=max_acc_test)\n",
    "    ####na apothikeusw to modelo me to mikrotero validation loss"
   ]
  },
  {
   "cell_type": "code",
   "execution_count": 41,
   "metadata": {},
   "outputs": [
    {
     "data": {
      "text/plain": [
       "6.171591950983355"
      ]
     },
     "execution_count": 41,
     "metadata": {},
     "output_type": "execute_result"
    }
   ],
   "source": [
    "# def rmsle(y_pred, y_true):\n",
    "#     first_log = np.log(y_pred + 1.)\n",
    "#     second_log = np.log(y_true + 1.)\n",
    "#     return np.mean(np.square(first_log - second_log))   #epistrefei ton meso oro tis diaforas twtragwnwn olwn twn prediction\n",
    "\n",
    "# rmsle(model.predict((WC_test, P_test, A_test)), Y_test)"
   ]
  },
  {
   "cell_type": "code",
   "execution_count": 269,
   "metadata": {},
   "outputs": [
    {
     "data": {
      "text/plain": [
       "array([[13.759629],\n",
       "       [21.621458],\n",
       "       [20.377762],\n",
       "       ...,\n",
       "       [23.251673],\n",
       "       [17.951591],\n",
       "       [17.50915 ]], dtype=float32)"
      ]
     },
     "execution_count": 269,
     "metadata": {},
     "output_type": "execute_result"
    }
   ],
   "source": [
    "model.load_weights('regression_model_split2_001.h5')\n",
    "model.predict((WC_test, P_test, A_test))    ##eisagw tis eisodous se morfi numpy array\n",
    "#.predict((WC_te, P_te, A_te))"
   ]
  },
  {
   "cell_type": "code",
   "execution_count": 270,
   "metadata": {},
   "outputs": [
    {
     "data": {
      "text/plain": [
       "(4454, 1)"
      ]
     },
     "execution_count": 270,
     "metadata": {},
     "output_type": "execute_result"
    }
   ],
   "source": [
    "predictions = model.predict((WC_test, P_test, A_test))\n",
    "predictions.shape "
   ]
  },
  {
   "cell_type": "code",
   "execution_count": 271,
   "metadata": {},
   "outputs": [
    {
     "data": {
      "text/plain": [
       "numpy.ndarray"
      ]
     },
     "execution_count": 271,
     "metadata": {},
     "output_type": "execute_result"
    }
   ],
   "source": [
    "type(predictions)"
   ]
  },
  {
   "cell_type": "code",
   "execution_count": 272,
   "metadata": {},
   "outputs": [
    {
     "data": {
      "text/plain": [
       "4.730065127030652"
      ]
     },
     "execution_count": 272,
     "metadata": {},
     "output_type": "execute_result"
    }
   ],
   "source": [
    "# MSLE\n",
    "def msle(y_pred, y_true):\n",
    "    first_log = np.log(y_pred + 1.)\n",
    "    second_log = np.log(y_true + 1.)\n",
    "    return np.mean(np.square(first_log - second_log))\n",
    "\n",
    "msle(predictions, Y_test)"
   ]
  },
  {
   "cell_type": "code",
   "execution_count": 273,
   "metadata": {},
   "outputs": [
    {
     "data": {
      "text/plain": [
       "0.34351145038167935"
      ]
     },
     "execution_count": 273,
     "metadata": {},
     "output_type": "execute_result"
    }
   ],
   "source": [
    "# P@10%\n",
    "size = Y_test.shape[0]*0.1\n",
    "len(set(Y_test.flatten().argsort().tolist()[::-1][:int(size)]).intersection(set(predictions.flatten().argsort().tolist()[::-1][:int(size)]))) / size"
   ]
  },
  {
   "cell_type": "code",
   "execution_count": 274,
   "metadata": {},
   "outputs": [
    {
     "name": "stdout",
     "output_type": "stream",
     "text": [
      "445\n"
     ]
    },
    {
     "data": {
      "text/plain": [
       "0.265814956661676"
      ]
     },
     "execution_count": 274,
     "metadata": {},
     "output_type": "execute_result"
    }
   ],
   "source": [
    "# AP@10%\n",
    "#Υpologismos toy Average precision\n",
    "from sklearn.metrics import average_precision_score\n",
    "\n",
    "size = int(len(Y_test)*0.1)\n",
    "print(size)\n",
    "# threshold = -Y_test.sort()[:size]\n",
    "threshold = np.min(np.sort(Y_test, axis=0)[::-1][:size])\n",
    "y_true = Y_test > threshold\n",
    "\n",
    "average_precision_score(y_true, predictions)"
   ]
  },
  {
   "cell_type": "code",
   "execution_count": 86,
   "metadata": {},
   "outputs": [
    {
     "data": {
      "text/plain": [
       "0.08"
      ]
     },
     "execution_count": 86,
     "metadata": {},
     "output_type": "execute_result"
    }
   ],
   "source": [
    "size = int(Y_test.shape[0]*0.1)\n",
    "len(set(np.squeeze(Y_test).argsort()[::-1][:size]).intersection(set(np.squeeze(predictions).argsort().tolist()[::-1][:size]))) / float(size)"
   ]
  },
  {
   "cell_type": "code",
   "execution_count": 87,
   "metadata": {},
   "outputs": [],
   "source": [
    "top10_pred, top10_percent_pred = [], []\n",
    "top10_pred = (-predictions).argsort(axis = 0)[:10]  #pairnw ta 10 prwta stoixeia tou arnitikou pinaka, ara ta 10 megalutera\n",
    "\n",
    "\n",
    "size = int(len(predictions)*0.1)\n",
    "top10_percent_pred = (-predictions).argsort(axis = 0)[:size]\n"
   ]
  },
  {
   "cell_type": "code",
   "execution_count": 88,
   "metadata": {},
   "outputs": [
    {
     "data": {
      "text/plain": [
       "(10, 1)"
      ]
     },
     "execution_count": 88,
     "metadata": {},
     "output_type": "execute_result"
    }
   ],
   "source": [
    "top10_pred.shape"
   ]
  },
  {
   "cell_type": "code",
   "execution_count": 89,
   "metadata": {},
   "outputs": [],
   "source": [
    "counter1  = 0 \n",
    "for i in top10:\n",
    "    for j in top10_pred:\n",
    "        if i==j:\n",
    "            counter1+= 1"
   ]
  },
  {
   "cell_type": "code",
   "execution_count": 90,
   "metadata": {},
   "outputs": [
    {
     "name": "stdout",
     "output_type": "stream",
     "text": [
      "0 6\n"
     ]
    }
   ],
   "source": [
    "counter2 = 0\n",
    "for i in top10_percent:\n",
    "    for j in top10_percent_pred:\n",
    "        if i==j:\n",
    "            counter2+= 1\n",
    "print(counter1,counter2)"
   ]
  },
  {
   "cell_type": "code",
   "execution_count": 91,
   "metadata": {},
   "outputs": [
    {
     "name": "stdout",
     "output_type": "stream",
     "text": [
      "The precision of the top 10 articles is  0.0 %\n",
      "The precision of the top 10 percent articles is  8.0 %\n"
     ]
    }
   ],
   "source": [
    "precision = (counter1/10)\n",
    "print('The precision of the top 10 articles is ', round(precision*100,2),'%')\n",
    "precision = (counter2/size)\n",
    "print('The precision of the top 10 percent articles is ', round(precision*100,2),'%')\n",
    "\n",
    "###gia ton poutso ligo???"
   ]
  },
  {
   "cell_type": "code",
   "execution_count": 243,
   "metadata": {},
   "outputs": [
    {
     "data": {
      "image/png": "[encoded data removed]",
      "text/plain": [
       "<Figure size 1152x648 with 1 Axes>"
      ]
     },
     "metadata": {
      "needs_background": "light"
     },
     "output_type": "display_data"
    }
   ],
   "source": [
    "plt.figure(figsize=(16, 9))\n",
    "plt.plot(plot_train)\n",
    "plt.plot(plot_val)\n",
    "plt.show()"
   ]
  },
  {
   "cell_type": "code",
   "execution_count": null,
   "metadata": {},
   "outputs": [],
   "source": [
    "from tensorflow.keras.callbacks import Callback\n",
    "\n",
    "class NBatchLogger(Callback):\n",
    "    def __init__(self, display):\n",
    "        self.seen = 0\n",
    "        self.display = display\n",
    "\n",
    "    def on_batch_end(self, batch, logs={}):\n",
    "        self.seen += logs.get('size', 0)\n",
    "        if self.seen % self.display == 0:\n",
    "            # you can access loss, accuracy in self.params['metrics']\n",
    "            print('\\n{}/{} - loss ....\\n'.format(self.seen, self.params['metrics'])) "
   ]
  },
  {
   "cell_type": "code",
   "execution_count": null,
   "metadata": {},
   "outputs": [],
   "source": [
    "out_batch = NBatchLogger(display=100)\n",
    "model.fit(WC_train, Y_train, batch_size=100, validation_data=(WC_test, Y_test), callbacks=[out_batch])"
   ]
  }
 ],
 "metadata": {
  "kernelspec": {
   "display_name": "Python 3",
   "language": "python",
   "name": "python3"
  },
  "language_info": {
   "codemirror_mode": {
    "name": "ipython",
    "version": 3
   },
   "file_extension": ".py",
   "mimetype": "text/x-python",
   "name": "python",
   "nbconvert_exporter": "python",
   "pygments_lexer": "ipython3",
   "version": "3.6.8"
  }
 },
 "nbformat": 4,
 "nbformat_minor": 2
}
